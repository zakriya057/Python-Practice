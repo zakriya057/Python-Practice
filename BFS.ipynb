{
 "cells": [
  {
   "cell_type": "code",
   "execution_count": 61,
   "metadata": {},
   "outputs": [
    {
     "data": {
      "text/plain": [
       "{1: [2, 5, 8],\n",
       " 2: [3, 4],\n",
       " 5: [6, 7],\n",
       " 8: [7, 9],\n",
       " 3: [],\n",
       " 4: [],\n",
       " 6: [],\n",
       " 7: [],\n",
       " 9: []}"
      ]
     },
     "execution_count": 61,
     "metadata": {},
     "output_type": "execute_result"
    }
   ],
   "source": [
    "graph= {1:[2,5,8], 2:[3,4], 5:[6,7],8:[7,9],3:[],4:[],6:[],7:[],9:[]}\n",
    "graph"
   ]
  },
  {
   "cell_type": "code",
   "execution_count": 81,
   "metadata": {},
   "outputs": [],
   "source": [
    "class mybfs():\n",
    "    graph={}\n",
    "    queue=[]\n",
    "    explored=[]\n",
    "    def __init__(self):\n",
    "        print(\" object created of type bfs\")\n",
    "    def push(self,node):\n",
    "        self.queue.append(node)\n",
    "    def pop(self):\n",
    "       return self.queue.pop(0)\n",
    "    def setGraph(self,g):\n",
    "       self. graph=g\n",
    "    def showgraph(self):\n",
    "        print(self.graph)\n",
    "    def showQueue(self):\n",
    "        print(\"Frontier::\",self.queue)\n",
    "    def showexplored(self):\n",
    "        print(\"explored\",self.explored)\n",
    "    def searching(self,start,goal):\n",
    "        self.push(start)\n",
    "        self.showQueue()\n",
    "        self.showexplored()\n",
    "        print(\"\\n\")\n",
    "        node=self.pop()\n",
    "        while node!=goal:\n",
    "            self.explored.append(node)\n",
    "            self.showexplored()\n",
    "            childs=self.graph[node]\n",
    "            for x in childs:\n",
    "                if x not in self.explored and x not in self.queue:\n",
    "                    self.push(x)\n",
    "            self.showQueue()\n",
    "            node=self.pop()\n",
    "            print(\"\\n\")\n",
    "        self.explored.append(node)\n",
    "        if node==goal:\n",
    "            print(\"Goal found\\n\")\n",
    "        self.showQueue()\n",
    "        self.showexplored()\n",
    "     \n",
    "        \n",
    "    "
   ]
  },
  {
   "cell_type": "code",
   "execution_count": 82,
   "metadata": {},
   "outputs": [
    {
     "name": "stdout",
     "output_type": "stream",
     "text": [
      " object created of type bfs\n"
     ]
    }
   ],
   "source": [
    "mybfsobj=mybfs()"
   ]
  },
  {
   "cell_type": "code",
   "execution_count": 83,
   "metadata": {},
   "outputs": [
    {
     "name": "stdout",
     "output_type": "stream",
     "text": [
      "{}\n"
     ]
    }
   ],
   "source": [
    "mybfsobj.showgraph()"
   ]
  },
  {
   "cell_type": "code",
   "execution_count": 84,
   "metadata": {},
   "outputs": [],
   "source": [
    "mybfsobj.setGraph(graph)"
   ]
  },
  {
   "cell_type": "code",
   "execution_count": 79,
   "metadata": {},
   "outputs": [
    {
     "name": "stdout",
     "output_type": "stream",
     "text": [
      "Frontier:: [1]\n",
      "explored []\n",
      "\n",
      "\n",
      "explored [1]\n",
      "Frontier:: [2, 5, 8]\n",
      "\n",
      "\n",
      "explored [1, 2]\n",
      "Frontier:: [5, 8, 3, 4]\n",
      "\n",
      "\n",
      "explored [1, 2, 5]\n",
      "Frontier:: [8, 3, 4, 6, 7]\n",
      "\n",
      "\n",
      "explored [1, 2, 5, 8]\n",
      "Frontier:: [3, 4, 6, 7, 9]\n",
      "\n",
      "\n",
      "explored [1, 2, 5, 8, 3]\n",
      "Frontier:: [4, 6, 7, 9]\n",
      "\n",
      "\n",
      "explored [1, 2, 5, 8, 3, 4]\n",
      "Frontier:: [6, 7, 9]\n",
      "\n",
      "\n",
      "Goal found\n",
      "\n",
      "Frontier:: [7, 9]\n",
      "explored [1, 2, 5, 8, 3, 4]\n"
     ]
    }
   ],
   "source": [
    "mybfsobj.searching(1,6)"
   ]
  }
 ],
 "metadata": {
  "kernelspec": {
   "display_name": "Python 3",
   "language": "python",
   "name": "python3"
  },
  "language_info": {
   "codemirror_mode": {
    "name": "ipython",
    "version": 3
   },
   "file_extension": ".py",
   "mimetype": "text/x-python",
   "name": "python",
   "nbconvert_exporter": "python",
   "pygments_lexer": "ipython3",
   "version": "3.8.5"
  }
 },
 "nbformat": 4,
 "nbformat_minor": 4
}
